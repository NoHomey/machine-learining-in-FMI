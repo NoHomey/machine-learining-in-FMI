{
 "cells": [
  {
   "cell_type": "code",
   "execution_count": 173,
   "metadata": {},
   "outputs": [
    {
     "data": {
      "application/vnd.jupyter.widget-view+json": {
       "model_id": "3fdd5f5e9638449d95b1f3246318aff4",
       "version_major": 2,
       "version_minor": 0
      },
      "text/plain": [
       "interactive(children=(IntSlider(value=10, continuous_update=False, description='samples', max=1000, min=10), F…"
      ]
     },
     "metadata": {},
     "output_type": "display_data"
    }
   ],
   "source": [
    "from __future__ import print_function\n",
    "from ipywidgets import interact, IntSlider, FloatSlider\n",
    "from sklearn import datasets\n",
    "import matplotlib.pyplot as plt\n",
    "import numpy as np\n",
    "from sklearn.ensemble import RandomForestClassifier\n",
    "\n",
    "%matplotlib inline\n",
    "\n",
    "random_state = 42\n",
    "\n",
    "colours = ['blue', 'red', 'green', 'orange']\n",
    "\n",
    "tabcolours = ['tab:' + c for c in colours]\n",
    "\n",
    "def gen_range(r):\n",
    "    return np.arange(r[\"min\"], r[\"max\"], 0.1)\n",
    "\n",
    "def plot_boundary(clf, X, y, groups):\n",
    "    ranges = [{\"min\": X[:, i].min() - 1, \"max\": X[:, i].max() + 1} for i in [0, 1]]\n",
    "    xc, yc  = np.meshgrid(gen_range(ranges[0]), gen_range(ranges[1]))\n",
    "    p = clf.predict(np.c_[xc.ravel(), yc.ravel()])\n",
    "    z = p.reshape(xc.shape)\n",
    "    fig, ax = plt.subplots(figsize=(14, 8))\n",
    "    ax.contourf(xc, yc, z, levels=groups - 1, alpha=0.3, colors=colours)\n",
    "    ax.scatter(X[:,0], X[:,1], c=list(map((lambda col: tabcolours[int(col)]), y)), s=70, marker='x')\n",
    "    plt.show()\n",
    "\n",
    "def gen_set(samples, noise, groups):\n",
    "    x, t = datasets.make_s_curve(n_samples=samples, noise=noise, random_state=random_state)\n",
    "    return np.c_[x[:, 0], x[:, 1]], list(map((lambda p: round(p) % groups), t))\n",
    "\n",
    "def random_forest_classifier(X, y, trees, max_depth, min_samples_split):\n",
    "    return RandomForestClassifier(n_estimators=trees, max_depth=max_depth, min_samples_split=min_samples_split, random_state=random_state).fit(X, y)\n",
    "\n",
    "def action(samples, noise, groups, trees, max_depth, min_samples_split):\n",
    "    X, y = gen_set(samples, noise, groups)\n",
    "    clf = random_forest_classifier(X, y, trees, max_depth, min_samples_split)\n",
    "    plot_boundary(clf, X, y, groups)\n",
    "\n",
    "def int_slider(min, max):\n",
    "    return IntSlider(min=min, max=max, continuous_update=False)\n",
    "\n",
    "def float_slider(min, max, step):\n",
    "    return FloatSlider(min=min, max=max, step=step, continuous_update=False)\n",
    "\n",
    "display(interactive(\n",
    "    action,\n",
    "    samples=int_slider(10, 1000),\n",
    "    noise=float_slider(0.1, 0.9, 0.1),\n",
    "    groups=int_slider(2, 4),\n",
    "    trees=int_slider(2, 1000),\n",
    "    max_depth=int_slider(2, 1000),\n",
    "    min_samples_split=int_slider(2, 100)\n",
    "))"
   ]
  },
  {
   "cell_type": "code",
   "execution_count": null,
   "metadata": {},
   "outputs": [],
   "source": []
  }
 ],
 "metadata": {
  "kernelspec": {
   "display_name": "Python 3",
   "language": "python",
   "name": "python3"
  },
  "language_info": {
   "codemirror_mode": {
    "name": "ipython",
    "version": 3
   },
   "file_extension": ".py",
   "mimetype": "text/x-python",
   "name": "python",
   "nbconvert_exporter": "python",
   "pygments_lexer": "ipython3",
   "version": "3.6.6"
  }
 },
 "nbformat": 4,
 "nbformat_minor": 2
}
